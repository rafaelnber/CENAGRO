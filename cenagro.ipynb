{
 "cells": [
  {
   "cell_type": "markdown",
   "metadata": {
    "slideshow": {
     "slide_type": "slide"
    }
   },
   "source": [
    "# CENSO NACIONAL AGROPECUARIO (CENAGRO) \n",
    "\n",
    "**Bach. Econ. Andrés Talavera Cuya**  \n",
    "_Asistente de investigación de Estudios Econométricos SAC_\n"
   ]
  },
  {
   "cell_type": "markdown",
   "metadata": {
    "slideshow": {
     "slide_type": "slide"
    }
   },
   "source": [
    "## Contenido\n",
    "\n",
    "- [Antecedentes](#Antecedentes)\n",
    "- [Importancia](#Importancia)\n",
    "- [Ficha técnica](#Ficha-técnica-IV-Cenagro)\n",
    "- [Scrape Cenagro](#Scrape-CENAGRO)\n",
    "- [Indicadores](#Indicadores)\n",
    "- [Reporte](#Reporte)\n",
    "- [Referencias](#Referencias)\n"
   ]
  },
  {
   "cell_type": "markdown",
   "metadata": {
    "slideshow": {
     "slide_type": "slide"
    }
   },
   "source": [
    "## Antecedentes \n",
    "\n",
    "El estado peruano ha ejecutado 4 Censos Nacionales Agropecuarios. \n",
    "\n",
    "- El I CENAGRO fue realizado en 1961, el II CENAGRO en el año 1972 (11 años después). El III CENAGRO se ejecutó en 1994 (22 años después) y el IV CENAGRO fue en el año 2012 (18 años después). \n"
   ]
  },
  {
   "cell_type": "markdown",
   "metadata": {
    "slideshow": {
     "slide_type": "slide"
    }
   },
   "source": [
    "### Unidades agropecuarias\n",
    "\n",
    "<img src=\"https://oodwimel.sirv.com/Images/Unidades-agrop.jpg\" width=\"376\" height=\"327\" alt=\"\" />"
   ]
  },
  {
   "cell_type": "markdown",
   "metadata": {
    "slideshow": {
     "slide_type": "slide"
    }
   },
   "source": [
    "### Superficies\n",
    "\n",
    "<img src=\"https://oodwimel.sirv.com/Images/Superficies.jpg\" width=\"676\" height=\"253\" alt=\"\" />"
   ]
  },
  {
   "cell_type": "markdown",
   "metadata": {
    "slideshow": {
     "slide_type": "slide"
    }
   },
   "source": [
    "## Importancia\n",
    "\n",
    "- Los resultados del CENAGRO, contiene información estadística sobre la estructura del sector agropecuario, como la cantidad de unidades agropecuarias y los productores agropecuarios que las conducen, según su condición jurídica y el régimen de tenencia. \n",
    "\n",
    "\n",
    "- Proporciona información sobre la cantidad de parcelas y el tamaño de las unidades agropecuarias que se ha estudiado acorde con el uso actual de la tierra lo que ha permitido conocer la superficie total o agropecuaria, la superficie agrícola y sus componentes, el tipo de agricultura y los sistemas utilizados para irrigar las tierras. \n",
    "\n",
    "\n",
    "- Se ha determinado la superficie con cultivos al momento de la entrevista, incluye las prácticas agrícolas y el uso de energía. \n"
   ]
  },
  {
   "cell_type": "markdown",
   "metadata": {
    "slideshow": {
     "slide_type": "slide"
    }
   },
   "source": [
    "\n",
    "- Cuenta con un inventario de vacunos, ovinos, porcinos, auquénidos sudamericanos, equinos, animales menores y aves de corral. Incluye las prácticas pecuarias, así como temas de interés como la asistencia técnica, el crédito, la asociatividad, las características del hogar del productor agropecuario y la participación de la mujer.\n",
    "\n",
    "\n",
    "- Permite obtener información sobre las características del hogar de la productora o productor agropecuario, las características básicas y condiciones de los productores agropecuarios y su participación en organizaciones campesinas e instituciones agrícolas contribuyendo así al estudio de la pobreza rural.  \n",
    "\n",
    "\n",
    "- Se obtiene información necesaria para la elaboración de marcos muéstrales que sirven de base para el diseño y ejecución de encuestas agropecuarias a cargo del Ministerio de Agricultura y Riego\n",
    "\n",
    "\n",
    "- Contribuye con el Sistema Integrado de Estadísticas Agropecuarias (SIEA) para el mejoramiento y análisis de la información agropecuaria y dispone de información básica para la actualización de las Cuentas Nacionales, permitiendo la comparabilidad nacional e internacional de la información obtenida.\n"
   ]
  },
  {
   "cell_type": "markdown",
   "metadata": {
    "slideshow": {
     "slide_type": "slide"
    }
   },
   "source": [
    "## Ficha técnica IV Cenagro\n",
    "\n",
    "\n",
    "### Objetivo general\n",
    "\n",
    "---------------------\n",
    "\n",
    "Disponer de información actualizada de la estructura del Sector Agropecuario en cuanto al número de unidades agropecuarias, tipo de agricultura, tamaño, distribución espacial, características de tenencia, uso de la tierra y tecnología empleada; a nivel nacional y de las divisiones político administrativas del país.\n",
    "\n",
    "\n",
    "### Objetivos específicos\n",
    "\n",
    "--------------------------\n",
    "\n",
    "a. Obtener información que permita conocer las características básicas de las unidades agropecuarias y de los productores agropecuarios que las conducen.\n",
    "\n",
    "b. Conocer las características de los productores, hombres y mujeres, su acceso y control de los recursos productivos y su participación en organizaciones campesinas e instituciones agrícolas contribuyendo así al estudio de la pobreza rural.\n",
    "\n",
    "c. Conocer la participación de los integrantes del hogar en las labores agropecuarias.\n",
    "\n",
    "d. Conocer la población de ganado existente en el país, por especie y categoría, en los diferentes niveles de agregación (distrito, provincia, departamento y nacional).\n"
   ]
  },
  {
   "cell_type": "markdown",
   "metadata": {
    "slideshow": {
     "slide_type": "slide"
    }
   },
   "source": [
    "e. Obtener información necesaria para la elaboración de marcos muestrales que sirvan de base para el diseño y ejecución de encuestas agropecuarias a cargo del Ministerio de Agricultura y Riego.\n",
    "\n",
    "f. Contribuir con el Sistema Integrado de Estadísticas Agropecuarias (SIEA) para el mejoramiento y análisis de la información agropecuaria\n",
    "\n",
    "g. Disponer de información básica para la actualización de las Cuentas Nacionales.\n",
    "\n",
    "h. Permitir la comparabilidad nacional e internacional de la información\n"
   ]
  },
  {
   "cell_type": "markdown",
   "metadata": {
    "slideshow": {
     "slide_type": "slide"
    }
   },
   "source": [
    "\n",
    "### Unidad de análisis\n",
    "\n",
    "--------------------------\n",
    "#### Unidad Agropecuaria (UA)\n",
    "\n",
    "Se ha definido como el terreno o conjunto de terrenos utilizados total o parcialmente para la producción agropecuaria incluyendo el ganado, conducidos como una unidad económica, por un productor agropecuario, sin consideración del tamaño, régimen de tenencia ni condición jurídica.\n",
    "\n",
    "No se consideran unidades agropecuarias a los terrenos: en concesión para la extracción de productos naturales, ya sean vegetales o animales; los que se dedican exclusivamente a cría de peces, camarones y otras especies acuáticas; ni a la crianza de gallos de pelea, caballos de carrera y toros de lidia. Tampoco se consideran unidades agropecuarias a los establecimientos que prestan servicios agrícolas tales como: alquiler de maquinaria, venta de insumos agrícolas u otros."
   ]
  },
  {
   "cell_type": "markdown",
   "metadata": {
    "slideshow": {
     "slide_type": "slide"
    }
   },
   "source": [
    "### Alcance temático\n",
    "\n",
    "\n",
    "Los temas de la cédula censal por capítulos son los siguietes: \n",
    "\n",
    "I. Ubicación geográfica y censal de la Unidad Agropecuaria\n",
    "\n",
    "II. Características del productor agropecuaria\n",
    "\n",
    "III. Características de la unidad agropecuaria\n",
    "\n",
    "IV. El uso de la tierra, destino de la mayor parte de la producción y régimen de tenencia (de las parcelas o chacras que trabaja)\n",
    "\n",
    "V. Siembras realizadas en la unidad agropecuaria (en las parcelas o chacras que trabaja)\n",
    "\n",
    "VI. Riego\n",
    "\n",
    "VII. Principales prácticas agrícolas\n"
   ]
  },
  {
   "cell_type": "markdown",
   "metadata": {
    "slideshow": {
     "slide_type": "slide"
    }
   },
   "source": [
    "VIII. Uso de energía eléctrica, mecánica y animal\n",
    "\n",
    "IX. Existencia de ganado, aves, otros animales y colmenas\n",
    "\n",
    "X. Principales prácticas Pecuarias\n",
    "\n",
    "XI. Capacitación, asistencia técnica y asesoría empresarial\n",
    "\n",
    "XII. Crédito agropecuario\n",
    "\n",
    "XIII. Empleo de la mano de obra en la unidad agropecuaria\n",
    "\n",
    "XIV. Infraestructura agropecuaria\n",
    "\n",
    "XV. Asociatividad y apreciaciones del productor agropecuario\n",
    "\n",
    "XVI. Características del hogar del productor\n"
   ]
  },
  {
   "cell_type": "markdown",
   "metadata": {
    "slideshow": {
     "slide_type": "slide"
    }
   },
   "source": [
    "\n",
    "### Cobertura geográfica \n",
    "\n",
    "Se efectuó en todo el territorio nacional, obteniéndose la estructura agraria a nivel de todas las divisiones político administrativas (distrito, provincia y departamento). Durante la operación de campo se logró censar a todos los distritos a nivel nacional. Sin embargo, debido a problemas sociales ocurridos en el departamento de Cajamarca, específicamente en los distritos de Bambamarca, Hualgayoc y Huasmin ubicados en las provincias de Hualgayoc y Celendín, respectivamente, no se logró concluir con el censo al 100%, pese a todos los esfuerzos desplegados para completar el cierre del censo en estos distritos.\n",
    "\n",
    "### Universo de estudio \n",
    "\n",
    "El IV CENAGRO, es un censo por enumeración completa que se caracterizó porque comprende a todas y cada una de las unidades agropecuarias a fin de determinar sus características, ubicación territorial y las parcelas que la componen. El censo cubrió a las personas entre 12 y más años de edad, entre hombres y mujeres fueron considerados como productores agropecuarios.\n"
   ]
  },
  {
   "cell_type": "markdown",
   "metadata": {
    "slideshow": {
     "slide_type": "slide"
    }
   },
   "source": [
    "### Video de capacitación \n",
    "\n",
    "https://youtu.be/A6WT6RFA_J4"
   ]
  },
  {
   "cell_type": "markdown",
   "metadata": {
    "slideshow": {
     "slide_type": "slide"
    }
   },
   "source": [
    "### Definiciones \n",
    "(página 61,62 Manual del censista)\n",
    "\n",
    "_Tierras con cultivos transitorios_\n",
    "Tierras con cultivos cuyo ciclo de crecimiento es menor de doce meses y que tienen\n",
    "como característica fundamental que al cosechar se destruye la planta.\n",
    "\n",
    "_Tierras con cultivos permanentes_\n",
    "Tierras ocupadas con cultivos que tienen carácter de bienes raíces por su prolongado\n",
    "período de permanencia en él, así como por el elevado costo de instalación\n",
    "desde la siembra y primeros años de crecimiento. Ejemplo: cacao, café, manzano, naranjo, cedro, huarango. \n",
    "\n",
    "_Tierras en barbecho_\n",
    "Son las tierras que al momento de la entrevista se encuentran sin cultivo, es decir,\n",
    "en el período comprendido entre el final de la cosecha anterior y el inicio de la\n",
    "siembra próxima. El período en mención debe ser menor de un año.\n",
    "\n",
    "_Tierras en descanso_\n",
    "Tierras agrícolas con más de un año sin uso que se dejan de trabajar por un periodo\n",
    "suficiente para restablecer su fertilidad y poder cultivarlas nuevamente.\n",
    "Con fines censales, solo se consideraron tierras en descanso en la sierra y no en la\n",
    "costa, ni en la selva. No confundir este uso de la tierra con los pastos naturales e incluso con montes y bosques.\n"
   ]
  },
  {
   "cell_type": "markdown",
   "metadata": {
    "slideshow": {
     "slide_type": "slide"
    }
   },
   "source": [
    "\n",
    "_Tierra agrícola sin uso_\n",
    "Son las tierras que alguna vez han tenido uso agrícola, que no están siendo utilizadas\n",
    "por diversos motivos: problema judicial, falta de financiamiento, falta de agua,\n",
    "inundación, etc. y que no están en descanso. No confundir este uso de la tierra con los pastos naturales\n",
    "e incluso con montes y bosques. \n",
    "\n",
    "_Tierras con pastos naturales manejados_\n",
    "Son aquellas superficies con pastos naturales fundamentalmente el ichu, en las\n",
    "cuales se realiza prácticas agrícolas como: riego, fertilización, abonamiento, empleo\n",
    "de alambrados (potreros), etc., es decir, existe un manejo por parte del\n",
    "productor.\n",
    "\n",
    "_Tierras con pastos naturales no manejados_\n",
    "Corresponde a las superficies con pastos naturales, ichu, que no han sido objeto de\n",
    "mejoramiento por parte del productor. Las superficies con pastos cultivados no se incluyen aquí.\n",
    "\n",
    "_Tierras con montes y bosques_\n",
    "Comprenden las tierras ocupadas por árboles y/o arbustos de diversas alturas (matorrales)\n",
    "que crecen en forma natural, pudiendo tener algún valor como madera,\n",
    "leña u otros.\n",
    "\n",
    "_Tierras con otros usos_\n",
    "Son las tierras no clasificadas en alguna de las categorías anteriores, por ejemplo,\n",
    "las ocupadas por viviendas, instalaciones pecuarias, terrenos eriazos, caminos, patios,\n",
    "invernaderos, elevaciones, depresiones, espejos de agua, etc.\n"
   ]
  },
  {
   "cell_type": "markdown",
   "metadata": {
    "slideshow": {
     "slide_type": "slide"
    }
   },
   "source": [
    "_Superficie agrícola bajo riego y en secano_ (pág. 68 Manual del censista)\n",
    "<img src=\"https://oodwimel.sirv.com/Images/Riego%26Secano.jpg\" width=\"781\" height=\"481\" alt=\"\" />"
   ]
  },
  {
   "cell_type": "markdown",
   "metadata": {
    "slideshow": {
     "slide_type": "slide"
    }
   },
   "source": [
    "# Scrape CENAGRO"
   ]
  },
  {
   "cell_type": "markdown",
   "metadata": {
    "slideshow": {
     "slide_type": "slide"
    }
   },
   "source": [
    "# Indicadores "
   ]
  },
  {
   "cell_type": "markdown",
   "metadata": {
    "slideshow": {
     "slide_type": "slide"
    }
   },
   "source": [
    "### Base de datos, variables y superficies \n",
    "\n",
    "<img src=\"https://oodwimel.sirv.com/Images/Usos.jpg\" width=\"773\" height=\"326\" alt=\"\" />"
   ]
  },
  {
   "cell_type": "markdown",
   "metadata": {
    "slideshow": {
     "slide_type": "slide"
    }
   },
   "source": [
    "# Reporte"
   ]
  },
  {
   "cell_type": "markdown",
   "metadata": {
    "slideshow": {
     "slide_type": "slide"
    }
   },
   "source": [
    "### Perú: Usos de la tierra, 2012 \n",
    "\n",
    "\n",
    "<img src=\"https://oodwimel.sirv.com/Images/usos_2012.JPG\" width=\"552\" height=\"461\" alt=\"\" />"
   ]
  },
  {
   "cell_type": "markdown",
   "metadata": {
    "slideshow": {
     "slide_type": "slide"
    }
   },
   "source": [
    "### Perú: Usos de la tierra, según departamentos, 2012 \n",
    "\n",
    "<img src=\"https://oodwimel.sirv.com/Images/C02x.jpg\" width=\"951\" height=\"1009\" alt=\"\" />"
   ]
  },
  {
   "cell_type": "markdown",
   "metadata": {
    "slideshow": {
     "slide_type": "slide"
    }
   },
   "source": [
    "## Referencias\n",
    "\n",
    "- Manual del cencista IV cenagro\n",
    "- Microdatos del INEI\n",
    "http://iinei.inei.gob.pe/microdatos/\n",
    "- Informe Técnico definitivo\n",
    "http://proyectos.inei.gob.pe/web/DocumentosPublicos/ResultadosFinalesIVCENAGRO.pdf\n",
    "- Sistema de documentación virtual INEI \n",
    "http://webinei.inei.gob.pe/anda_inei/index.php/catalog/235\n",
    "- Seminario de Construcción de Indicadores agropecuarios. Diana Ramirez. https://www.youtube.com/watch?v=4fDO_MwqH9k&t=529s\n"
   ]
  },
  {
   "cell_type": "code",
   "execution_count": null,
   "metadata": {},
   "outputs": [],
   "source": []
  }
 ],
 "metadata": {
  "celltoolbar": "Slideshow",
  "hide_input": false,
  "kernelspec": {
   "display_name": "Python 3",
   "language": "python",
   "name": "python3"
  },
  "language_info": {
   "codemirror_mode": {
    "name": "ipython",
    "version": 3
   },
   "file_extension": ".py",
   "mimetype": "text/x-python",
   "name": "python",
   "nbconvert_exporter": "python",
   "pygments_lexer": "ipython3",
   "version": "3.8.5"
  }
 },
 "nbformat": 4,
 "nbformat_minor": 4
}
